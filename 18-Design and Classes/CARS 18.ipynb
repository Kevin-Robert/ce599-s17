{
 "cells": [
  {
   "cell_type": "code",
   "execution_count": 5,
   "metadata": {
    "collapsed": false
   },
   "outputs": [],
   "source": [
    "START_NORTH=0\n",
    "START_SOUTH=0\n",
    "START_EAST=0\n",
    "START_WEST=0\n",
    "\n",
    "\n",
    "class Car(object):\n",
    "    def __int__(self,color,location=[0,0],direction=0):\n",
    "\n",
    "        if len(location)!= 2:\n",
    "            print('This is a 2D system, so enter 2 please.')\n",
    "        else:\n",
    "            self.color=color\n",
    "            self.location=location\n",
    "            self.x=location[0]\n",
    "            self.y= location[1]\n",
    "            self.direction= direction\n",
    "    def go(self,units,movement):\n",
    "        \n",
    "        if movement=='forward':\n",
    "            if self.direction=='F':\n",
    "                self.y=self.y+ units\n",
    "            elif self.direction =='B':\n",
    "                self.y = self.y- units\n",
    "            elif self.direstion== 'L':\n",
    "                self.x=self.x-units\n",
    "            elif self.direction == 'R':\n",
    "                self.x=self.x+units\n",
    "            else:\n",
    "                print('Please enter F for forward, B for backwards, L for left, or R for right.')\n",
    "            self.location=[self.x,self.y]\n",
    "        elif movement=='backwards':\n",
    "            \n",
    "            if self.direction=='F':\n",
    "                self.y=self.y+ units\n",
    "            elif self.direction =='B':\n",
    "                self.y = self.y- units\n",
    "            elif self.direstion== 'L':\n",
    "                self.x=self.x-units\n",
    "            elif self.direction == 'R':\n",
    "                self.x=self.x+units\n",
    "            else:\n",
    "                print('Again please enter F for forward, B for backwards, L for left, or R for right.')\n",
    "            self.location=[self.x,self.y]\n",
    "        else:\n",
    "            print('Please enter possible movements')"
   ]
  },
  {
   "cell_type": "code",
   "execution_count": 6,
   "metadata": {
    "collapsed": false
   },
   "outputs": [],
   "source": [
    "def left_turn(self):\n",
    "    \n",
    "    if self.direction=='F':\n",
    "        self.direction= 'L'\n",
    "    elif self.direction=='B':\n",
    "        self.direction='R'\n",
    "    elif self.direction =='L':\n",
    "        self.direction= 'B'\n",
    "    elif self.direction=='R':\n",
    "        self.direction= 'N'\n",
    "    else:\n",
    "        print('Wrong direction please try again.')"
   ]
  },
  {
   "cell_type": "code",
   "execution_count": 7,
   "metadata": {
    "collapsed": false
   },
   "outputs": [],
   "source": [
    "def right_turn(self):\n",
    "    \n",
    "    if self.direction=='F':\n",
    "        self.direction= 'R'\n",
    "    elif self.direction=='B':\n",
    "        self.direction='L'\n",
    "    elif self.direction =='L':\n",
    "        self.direction= 'F'\n",
    "    elif self.direction=='R':\n",
    "        self.direction= 'B'\n",
    "    else:\n",
    "        print('Wrong direction please try again.')"
   ]
  },
  {
   "cell_type": "code",
   "execution_count": 8,
   "metadata": {
    "collapsed": true
   },
   "outputs": [],
   "source": [
    "def printcar(self):\n",
    "    print('Car color is'+ self.color)\n",
    "    print('at'+ self.location)\n",
    "    print('and facing'+ self.direction)"
   ]
  },
  {
   "cell_type": "code",
   "execution_count": 15,
   "metadata": {
    "collapsed": false
   },
   "outputs": [
    {
     "ename": "TabError",
     "evalue": "inconsistent use of tabs and spaces in indentation (Cars.py, line 14)",
     "output_type": "error",
     "traceback": [
      "\u001b[0;36m  File \u001b[0;32m\"C:\\Users\\Owner\\Documents\\0Senior Uk\\CE599\\ce599-s17\\18-Design and Classes\\transport\\Cars.py\"\u001b[0;36m, line \u001b[0;32m14\u001b[0m\n\u001b[0;31m    if len(location) <2 or len(location)>2:\u001b[0m\n\u001b[0m                                           ^\u001b[0m\n\u001b[0;31mTabError\u001b[0m\u001b[0;31m:\u001b[0m inconsistent use of tabs and spaces in indentation\n"
     ]
    }
   ],
   "source": [
    "import sys\n",
    "sys.path.append('C:\\\\Users\\\\Owner\\\\Documents\\\\0Senior Uk\\\\CE599\\\\ce599-s17\\\\18-Design and Classes\\\\transport')\n",
    "\n",
    "from Cars import Car\n",
    "\n",
    "if __name__==\"__main__\":\n",
    "    \n",
    "    cary=Car(color='yellow',location=[0,0],direction='F')\n",
    "    cary.printcar()\n",
    "    cary.go(2,'forward')\n",
    "    cary.turn_left()\n",
    "    cary.go(1,'forward')\n",
    "    cary.printcar()\n",
    "    \n",
    "    carg.Car(color='green',location=[0,0],direction='F')\n",
    "    carg.printcar()\n",
    "    carg.left_turn()\n",
    "    carg.go(1,'forward')\n",
    "    cary.turn_right()\n",
    "    cary.go(2,'forward')\n",
    "    cary.printcar()\n",
    "    \n",
    "    print('Are you a Packers fan?')"
   ]
  },
  {
   "cell_type": "code",
   "execution_count": null,
   "metadata": {
    "collapsed": true
   },
   "outputs": [],
   "source": []
  }
 ],
 "metadata": {
  "anaconda-cloud": {},
  "kernelspec": {
   "display_name": "Python [default]",
   "language": "python",
   "name": "python3"
  },
  "language_info": {
   "codemirror_mode": {
    "name": "ipython",
    "version": 3
   },
   "file_extension": ".py",
   "mimetype": "text/x-python",
   "name": "python",
   "nbconvert_exporter": "python",
   "pygments_lexer": "ipython3",
   "version": "3.5.2"
  }
 },
 "nbformat": 4,
 "nbformat_minor": 1
}
